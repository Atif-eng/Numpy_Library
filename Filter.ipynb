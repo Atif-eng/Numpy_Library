{
 "cells": [
  {
   "cell_type": "markdown",
   "id": "da0e88be",
   "metadata": {},
   "source": [
    "# Filter"
   ]
  },
  {
   "cell_type": "markdown",
   "id": "5eccf706",
   "metadata": {},
   "source": [
    "`Filter in numpy`\n",
    "- The `np.filter()` function is used to filter elements of an array based on a specified condition.\n",
    "- It returns a new array containing only the elements that satisfy the condition."
   ]
  },
  {
   "cell_type": "code",
   "execution_count": 1,
   "id": "f9e21ef7",
   "metadata": {},
   "outputs": [],
   "source": [
    "import numpy as np"
   ]
  },
  {
   "cell_type": "code",
   "execution_count": 2,
   "id": "9c7e491c",
   "metadata": {},
   "outputs": [
    {
     "name": "stdout",
     "output_type": "stream",
     "text": [
      "['a' 'c']\n"
     ]
    }
   ],
   "source": [
    "arr=np.array(['s','a','b','c'])\n",
    "f=[False,True,False,True]\n",
    "new=arr[f]\n",
    "print(new)"
   ]
  },
  {
   "cell_type": "markdown",
   "id": "fb475ad6",
   "metadata": {},
   "source": [
    "#   `Filter in numpy`\n",
    "- The `np.filter()` function is used to filter elements of an array based on a\n",
    "- specified condition.\n",
    "- - It returns a new array containing only the elements that satisfy the condition.\n",
    "- - In this example, the array `arr` contains four elements: 's', 'a', 'b', and 'c'.\n",
    "- - The filter list `f` specifies which elements to include in the new array.\n",
    "- - The first element 's' is excluded (False), the second element 'a' is included (True),\n",
    "- - the third element 'b' is excluded (False), and the fourth element 'c\n",
    "- - is included (True).\n",
    "- - The resulting array `new` will contain only the elements 'a' and 'c'.\n",
    "- - The `print(new)` statement will display the filtered array.\n",
    "- - The `np.filter()` function is useful for extracting specific elements from an array based on a condition.\n",
    "- It allows you to create a new array that meets certain criteria, making it easier to work with subsets of data."
   ]
  },
  {
   "cell_type": "code",
   "execution_count": null,
   "id": "014ac098",
   "metadata": {},
   "outputs": [],
   "source": []
  }
 ],
 "metadata": {
  "kernelspec": {
   "display_name": "Python 3",
   "language": "python",
   "name": "python3"
  },
  "language_info": {
   "codemirror_mode": {
    "name": "ipython",
    "version": 3
   },
   "file_extension": ".py",
   "mimetype": "text/x-python",
   "name": "python",
   "nbconvert_exporter": "python",
   "pygments_lexer": "ipython3",
   "version": "3.12.6"
  }
 },
 "nbformat": 4,
 "nbformat_minor": 5
}
