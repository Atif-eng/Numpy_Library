{
 "cells": [
  {
   "cell_type": "markdown",
   "id": "917be37a",
   "metadata": {},
   "source": [
    "# Arthimetic Operator"
   ]
  },
  {
   "cell_type": "code",
   "execution_count": 15,
   "id": "2588affb",
   "metadata": {},
   "outputs": [],
   "source": [
    "import numpy as np"
   ]
  },
  {
   "cell_type": "code",
   "execution_count": 16,
   "id": "23668edf",
   "metadata": {},
   "outputs": [
    {
     "name": "stdout",
     "output_type": "stream",
     "text": [
      "[ 3  5  7  9 11]\n"
     ]
    }
   ],
   "source": [
    "arr=np.array([1,2,3,4,5])\n",
    "var2=np.array([2,3,4,5,6])\n",
    "add=arr+var2\n",
    "print(add)"
   ]
  },
  {
   "cell_type": "code",
   "execution_count": 17,
   "id": "7c94d811",
   "metadata": {},
   "outputs": [
    {
     "name": "stdout",
     "output_type": "stream",
     "text": [
      "[[ 2  4  6  8]\n",
      " [10 12 14 16]]\n"
     ]
    }
   ],
   "source": [
    "arr=np.array([[1,2,3,4],[5,6,7,8]])   #Two dimension \n",
    "arr1=np.array([[1,2,3,4],[5,6,7,8]])\n",
    "add=arr+arr1\n",
    "print(add)"
   ]
  },
  {
   "cell_type": "code",
   "execution_count": 18,
   "id": "8fbb840c",
   "metadata": {},
   "outputs": [
    {
     "name": "stdout",
     "output_type": "stream",
     "text": [
      "[[[2 4 6 8]]]\n"
     ]
    }
   ],
   "source": [
    "arr=np.array([[[1,2,3,4]]])   #Three dimension \n",
    "arr1=np.array([[[1,2,3,4]]])\n",
    "add=arr+arr1\n",
    "print(add)"
   ]
  },
  {
   "cell_type": "markdown",
   "id": "ef1e00af",
   "metadata": {},
   "source": [
    "# Athimetic operator with numpy"
   ]
  },
  {
   "cell_type": "code",
   "execution_count": 19,
   "id": "432953c8",
   "metadata": {},
   "outputs": [
    {
     "name": "stdout",
     "output_type": "stream",
     "text": [
      "[ 6  8 10 12]\n",
      "sub is:[-4 -4 -4 -4]\n",
      "multi is:[ 5 12 21 32]\n",
      "divide is:[0.2        0.33333333 0.42857143 0.5       ]\n"
     ]
    }
   ],
   "source": [
    "a=np.array([1,2,3,4])\n",
    "b=np.array([5,6,7,8])\n",
    "add=np.add(a,b)\n",
    "print(add)\n",
    "\n",
    "sub=np.subtract(a,b)\n",
    "print(f\"sub is:{sub}\")\n",
    "\n",
    "multi=np.multiply(a,b)\n",
    "print(f\"multi is:{multi}\")\n",
    "\n",
    "divide=np.divide(a,b)\n",
    "print(f\"divide is:{divide}\")"
   ]
  },
  {
   "cell_type": "markdown",
   "id": "0373a237",
   "metadata": {},
   "source": [
    "Arthimetic operation with scalar"
   ]
  },
  {
   "cell_type": "code",
   "execution_count": 21,
   "id": "bf850d48",
   "metadata": {},
   "outputs": [
    {
     "name": "stdout",
     "output_type": "stream",
     "text": [
      "add is:[4 5 6 7 8]\n",
      "sub is:[-2 -1  0  1  2]\n",
      "multi is:[ 3  6  9 12 15]\n",
      "module is:[1 2 0 1 2]\n",
      "power is:[ 1  4  9 16 25]\n"
     ]
    }
   ],
   "source": [
    "arr=np.array([1,2,3,4,5])   \n",
    "add=arr+3\n",
    "print(f\"add is:{add}\")\n",
    "sub=arr-3\n",
    "print(f\"sub is:{sub}\")\n",
    "multi=arr*3\n",
    "print(f\"multi is:{multi}\")\n",
    "module=arr%3\n",
    "print(f\"module is:{module}\")\n",
    "power=arr**2\n",
    "print(f\"power is:{power}\")"
   ]
  },
  {
   "cell_type": "markdown",
   "id": "686cd31c",
   "metadata": {},
   "source": [
    "Arthimetic Function"
   ]
  },
  {
   "cell_type": "code",
   "execution_count": 22,
   "id": "78b918b5",
   "metadata": {},
   "outputs": [
    {
     "name": "stdout",
     "output_type": "stream",
     "text": [
      "[1 2 3 4 5 6]\n",
      "Maximim number in this array is:6\n"
     ]
    }
   ],
   "source": [
    "# Arthimetic Function\n",
    "arr=np.array([1,2,3,4,5,6])\n",
    "a=np.max(arr)\n",
    "print(arr)\n",
    "print(f\"Maximim number in this array is:{a}\")"
   ]
  },
  {
   "cell_type": "code",
   "execution_count": 23,
   "id": "93a8ff34",
   "metadata": {},
   "outputs": [
    {
     "name": "stdout",
     "output_type": "stream",
     "text": [
      "minimun number in this array is:1\n"
     ]
    }
   ],
   "source": [
    "b=np.min(arr)\n",
    "print(f\"minimun number in this array is:{b}\")"
   ]
  },
  {
   "cell_type": "code",
   "execution_count": 24,
   "id": "5bceaa3a",
   "metadata": {},
   "outputs": [
    {
     "name": "stdout",
     "output_type": "stream",
     "text": [
      "5\n",
      "0\n"
     ]
    }
   ],
   "source": [
    "#Tell us about index of min or max value\n",
    "c=np.argmax(arr) \n",
    "print(c)\n",
    "d=np.argmin(arr)\n",
    "print(d)"
   ]
  },
  {
   "cell_type": "code",
   "execution_count": 25,
   "id": "0fda8224",
   "metadata": {},
   "outputs": [
    {
     "name": "stdout",
     "output_type": "stream",
     "text": [
      "Square root of array is:[2. 3. 4.]\n"
     ]
    }
   ],
   "source": [
    "square=np.array([4,9,16])\n",
    "e=np.sqrt(square)\n",
    "print(f\"Square root of array is:{e}\")"
   ]
  },
  {
   "cell_type": "code",
   "execution_count": 26,
   "id": "af9224e1",
   "metadata": {},
   "outputs": [
    {
     "name": "stdout",
     "output_type": "stream",
     "text": [
      "2D Array:\n",
      " [[1 2 3 4]\n",
      " [3 4 5 6]]\n",
      "\n",
      "max: 6\n",
      "min: 1\n",
      "\n",
      "coloum wise check\n",
      "max coloum wise: [3 4 5 6]\n",
      "min coloum wise: [1 2 3 4]\n",
      "\n",
      "row wise check\n",
      "min row wise: [1 3]\n",
      "max row wise [4 6]\n"
     ]
    }
   ],
   "source": [
    "arr2D=np.array([[1,2,3,4],[3,4,5,6]])\n",
    "print(\"2D Array:\\n\",arr2D)\n",
    "print(\"\\nmax:\",np.max(arr2D))\n",
    "print(\"min:\",np.min(arr2D))\n",
    "#axis=0 this is for coloum and axis=1 is for row\n",
    "print(\"\\ncoloum wise check\")\n",
    "print(\"max coloum wise:\",np.max(arr2D,axis=0))\n",
    "print(\"min coloum wise:\",np.min(arr2D,axis=0))\n",
    "print(\"\\nrow wise check\")\n",
    "print(\"min row wise:\",np.min(arr2D,axis=1))\n",
    "print(\"max row wise\",np.max(arr2D,axis=1))\n"
   ]
  },
  {
   "cell_type": "code",
   "execution_count": 27,
   "id": "e1f281fc",
   "metadata": {},
   "outputs": [
    {
     "name": "stdout",
     "output_type": "stream",
     "text": [
      "[ 0.85090352 -0.30481062  0.89399666]\n",
      "[ 0.52532199 -0.95241298 -0.44807362]\n"
     ]
    }
   ],
   "source": [
    "angle=np.array([45,60,90])\n",
    "print(np.sin(angle))\n",
    "print(np.cos(angle))"
   ]
  },
  {
   "cell_type": "code",
   "execution_count": 28,
   "id": "af7de401",
   "metadata": {},
   "outputs": [
    {
     "name": "stdout",
     "output_type": "stream",
     "text": [
      "[ 1  3  6 10]\n"
     ]
    }
   ],
   "source": [
    "cumsum=np.array([1,2,3,4])\n",
    "print(np.cumsum(cumsum))"
   ]
  },
  {
   "cell_type": "markdown",
   "id": "a33c6056",
   "metadata": {},
   "source": [
    "# Shape"
   ]
  },
  {
   "cell_type": "code",
   "execution_count": 29,
   "id": "479df213",
   "metadata": {},
   "outputs": [
    {
     "name": "stdout",
     "output_type": "stream",
     "text": [
      "[[1 2 3 4]\n",
      " [5 6 7 8]]\n",
      "(2, 4)\n"
     ]
    }
   ],
   "source": [
    "arr=np.array([[1,2,3,4],[5,6,7,8]])\n",
    "print(arr)\n",
    "print(arr.shape)"
   ]
  },
  {
   "cell_type": "markdown",
   "id": "fa3b2000",
   "metadata": {},
   "source": [
    "Reshape"
   ]
  },
  {
   "cell_type": "code",
   "execution_count": 30,
   "id": "1d6f290d",
   "metadata": {},
   "outputs": [
    {
     "name": "stdout",
     "output_type": "stream",
     "text": [
      "[[1 2]\n",
      " [3 4]\n",
      " [5 6]\n",
      " [7 8]]\n",
      "2\n"
     ]
    }
   ],
   "source": [
    "arr1=np.array([1,2,3,4,5,6,7,8])\n",
    "x=arr1.reshape(4,2)\n",
    "print(x)\n",
    "print(x.ndim)"
   ]
  },
  {
   "cell_type": "code",
   "execution_count": 31,
   "id": "40eee800",
   "metadata": {},
   "outputs": [
    {
     "name": "stdout",
     "output_type": "stream",
     "text": [
      "[[[1 2 3 4 5 6 7 8]]]\n",
      "3\n"
     ]
    }
   ],
   "source": [
    "arr1=np.array([1,2,3,4,5,6,7,8])\n",
    "x=arr1.reshape(1,1,8)\n",
    "print(x)\n",
    "print(x.ndim)"
   ]
  },
  {
   "cell_type": "code",
   "execution_count": 32,
   "id": "2f0fb7d5",
   "metadata": {},
   "outputs": [
    {
     "name": "stdout",
     "output_type": "stream",
     "text": [
      "[1 2 3 4 5 6 7 8]\n"
     ]
    }
   ],
   "source": [
    "#change into one dimension\n",
    "one=x.reshape(-1)\n",
    "print(one)"
   ]
  },
  {
   "cell_type": "code",
   "execution_count": null,
   "id": "b289fed4",
   "metadata": {},
   "outputs": [],
   "source": []
  }
 ],
 "metadata": {
  "kernelspec": {
   "display_name": "Python 3",
   "language": "python",
   "name": "python3"
  },
  "language_info": {
   "codemirror_mode": {
    "name": "ipython",
    "version": 3
   },
   "file_extension": ".py",
   "mimetype": "text/x-python",
   "name": "python",
   "nbconvert_exporter": "python",
   "pygments_lexer": "ipython3",
   "version": "3.12.6"
  }
 },
 "nbformat": 4,
 "nbformat_minor": 5
}
