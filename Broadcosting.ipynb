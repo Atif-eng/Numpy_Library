{
 "cells": [
  {
   "cell_type": "markdown",
   "id": "bec7aa87",
   "metadata": {},
   "source": [
    "# Broadcosting"
   ]
  },
  {
   "cell_type": "markdown",
   "id": "df5a75c2",
   "metadata": {},
   "source": [
    "`Why broadcosting?`\n",
    "- Broadcosting is a method used in cost accounting to allocate costs across multiple products or services\n",
    "- in a way that reflects their relative consumption of resources. It helps businesses understand the overall cost structure and profitability of their offerings.\n",
    "- This approach is particularly useful for companies with diverse product lines or services, as it allows them to make informed decisions about pricing, resource allocation, and profitability analysis."
   ]
  },
  {
   "cell_type": "code",
   "execution_count": 2,
   "id": "7afb3fc0",
   "metadata": {},
   "outputs": [
    {
     "name": "stdout",
     "output_type": "stream",
     "text": [
      "(4,)\n",
      "(3,)\n"
     ]
    }
   ],
   "source": [
    "import numpy as np\n",
    "var1=np.array([1,2,3,4])\n",
    "print(var1.shape)\n",
    "var2=np.array([1,2,3])\n",
    "print(var2.shape)"
   ]
  },
  {
   "cell_type": "code",
   "execution_count": 3,
   "id": "93aeb56d",
   "metadata": {},
   "outputs": [],
   "source": [
    "# print(var1+var2)\n",
    "#when we add these two an error shows because the shapes are not compatible\n",
    "#we can use broadcasting to add these two arrays"
   ]
  },
  {
   "cell_type": "code",
   "execution_count": 4,
   "id": "1f0c77b2",
   "metadata": {},
   "outputs": [
    {
     "name": "stdout",
     "output_type": "stream",
     "text": [
      "[[2 3 4 5]\n",
      " [3 4 5 6]\n",
      " [4 5 6 7]]\n"
     ]
    }
   ],
   "source": [
    "#we also solve this error as\n",
    "a=np.array([1,2,3,4])\n",
    "b=np.array([[1],[2],[3]])#we can use any dimension\n",
    "print(a+b)"
   ]
  },
  {
   "cell_type": "code",
   "execution_count": 5,
   "id": "a9f13365",
   "metadata": {},
   "outputs": [
    {
     "name": "stdout",
     "output_type": "stream",
     "text": [
      "(3, 2)\n",
      "[[1 2]\n",
      " [3 4]\n",
      " [5 6]]\n"
     ]
    }
   ],
   "source": [
    "b=np.array([[1],[2],[3]])\n",
    "c=np.array([[1,2],[3,4],[5,6]])\n",
    "print(c.shape)\n",
    "print(c)"
   ]
  },
  {
   "cell_type": "code",
   "execution_count": 6,
   "id": "ecc910f1",
   "metadata": {},
   "outputs": [
    {
     "name": "stdout",
     "output_type": "stream",
     "text": [
      "[[2 3]\n",
      " [5 6]\n",
      " [8 9]]\n"
     ]
    }
   ],
   "source": [
    "print(b+c)"
   ]
  },
  {
   "cell_type": "code",
   "execution_count": null,
   "id": "be889968",
   "metadata": {},
   "outputs": [],
   "source": []
  }
 ],
 "metadata": {
  "kernelspec": {
   "display_name": "Python 3",
   "language": "python",
   "name": "python3"
  },
  "language_info": {
   "codemirror_mode": {
    "name": "ipython",
    "version": 3
   },
   "file_extension": ".py",
   "mimetype": "text/x-python",
   "name": "python",
   "nbconvert_exporter": "python",
   "pygments_lexer": "ipython3",
   "version": "3.12.6"
  }
 },
 "nbformat": 4,
 "nbformat_minor": 5
}
