{
 "cells": [
  {
   "cell_type": "markdown",
   "id": "8185ff44",
   "metadata": {},
   "source": [
    "Dimensions in Numpy array"
   ]
  },
  {
   "cell_type": "code",
   "execution_count": 1,
   "id": "05c39b2f",
   "metadata": {},
   "outputs": [
    {
     "name": "stdout",
     "output_type": "stream",
     "text": [
      "[1 2 3 4 5]\n"
     ]
    }
   ],
   "source": [
    "import numpy as np\n",
    "\n",
    "x=[1,2,3,4,5]\n",
    "y=np.array(x)\n",
    "print(y)"
   ]
  },
  {
   "cell_type": "markdown",
   "id": "72a08f0c",
   "metadata": {},
   "source": [
    "# One Dimension"
   ]
  },
  {
   "cell_type": "code",
   "execution_count": 2,
   "id": "fdafc9f7",
   "metadata": {},
   "outputs": [
    {
     "data": {
      "text/plain": [
       "array([1, 2, 3, 4, 5, 6])"
      ]
     },
     "execution_count": 2,
     "metadata": {},
     "output_type": "execute_result"
    }
   ],
   "source": [
    "oneD_arry=np.array([1,2,3,4,5,6])\n",
    "oneD_arry"
   ]
  },
  {
   "cell_type": "code",
   "execution_count": 3,
   "id": "0d1784e7",
   "metadata": {},
   "outputs": [
    {
     "name": "stdout",
     "output_type": "stream",
     "text": [
      "1\n"
     ]
    }
   ],
   "source": [
    "print(oneD_arry.ndim)#tell us dimension"
   ]
  },
  {
   "cell_type": "markdown",
   "id": "25be0958",
   "metadata": {},
   "source": [
    "# Two Dimension"
   ]
  },
  {
   "cell_type": "code",
   "execution_count": 4,
   "id": "710d3cc4",
   "metadata": {},
   "outputs": [
    {
     "data": {
      "text/plain": [
       "array([[ 1,  2,  3,  4,  5],\n",
       "       [ 6,  7,  8,  9, 10],\n",
       "       [ 1,  4,  3,  5,  6]])"
      ]
     },
     "execution_count": 4,
     "metadata": {},
     "output_type": "execute_result"
    }
   ],
   "source": [
    "TwoD_array=np.array([[1,2,3,4,5],[6,7,8,9,10],[1,4,3,5,6]])\n",
    "TwoD_array"
   ]
  },
  {
   "cell_type": "code",
   "execution_count": 5,
   "id": "f005a6d7",
   "metadata": {},
   "outputs": [
    {
     "name": "stdout",
     "output_type": "stream",
     "text": [
      "2\n"
     ]
    }
   ],
   "source": [
    "print(TwoD_array.ndim)#tell us dimension"
   ]
  },
  {
   "cell_type": "markdown",
   "id": "7da6ba75",
   "metadata": {},
   "source": [
    "# Three Dimension"
   ]
  },
  {
   "cell_type": "code",
   "execution_count": 6,
   "id": "56114130",
   "metadata": {},
   "outputs": [
    {
     "data": {
      "text/plain": [
       "array([[[ 1,  2,  3],\n",
       "        [ 4,  5,  6]],\n",
       "\n",
       "       [[ 7,  8,  9],\n",
       "        [10, 11, 12]]])"
      ]
     },
     "execution_count": 6,
     "metadata": {},
     "output_type": "execute_result"
    }
   ],
   "source": [
    "theeD_array=np.array([[[1,2,3],[4,5,6]],[[7,8,9],[10,11,12]]])\n",
    "theeD_array"
   ]
  },
  {
   "cell_type": "code",
   "execution_count": 7,
   "id": "c903b7a4",
   "metadata": {},
   "outputs": [
    {
     "data": {
      "text/plain": [
       "3"
      ]
     },
     "execution_count": 7,
     "metadata": {},
     "output_type": "execute_result"
    }
   ],
   "source": [
    "theeD_array.ndim#tell us dimension"
   ]
  },
  {
   "cell_type": "markdown",
   "id": "8f15e58c",
   "metadata": {},
   "source": [
    "# N_Dimension array"
   ]
  },
  {
   "cell_type": "code",
   "execution_count": 8,
   "id": "393808dd",
   "metadata": {},
   "outputs": [
    {
     "name": "stdout",
     "output_type": "stream",
     "text": [
      "[[[[[[[[[[1 2 3]]]]]]]]]]\n"
     ]
    }
   ],
   "source": [
    "N_D_array=np.array([1,2,3],ndmin=10)\n",
    "print(N_D_array)"
   ]
  },
  {
   "cell_type": "code",
   "execution_count": 9,
   "id": "ace1434c",
   "metadata": {},
   "outputs": [
    {
     "name": "stdout",
     "output_type": "stream",
     "text": [
      "10\n"
     ]
    }
   ],
   "source": [
    "print(N_D_array.ndim)#tell us dimension"
   ]
  },
  {
   "cell_type": "code",
   "execution_count": null,
   "id": "65d1151e",
   "metadata": {},
   "outputs": [],
   "source": []
  }
 ],
 "metadata": {
  "kernelspec": {
   "display_name": "Python 3",
   "language": "python",
   "name": "python3"
  },
  "language_info": {
   "codemirror_mode": {
    "name": "ipython",
    "version": 3
   },
   "file_extension": ".py",
   "mimetype": "text/x-python",
   "name": "python",
   "nbconvert_exporter": "python",
   "pygments_lexer": "ipython3",
   "version": "3.12.6"
  }
 },
 "nbformat": 4,
 "nbformat_minor": 5
}
