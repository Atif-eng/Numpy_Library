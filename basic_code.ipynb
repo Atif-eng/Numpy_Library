{
 "cells": [
  {
   "cell_type": "markdown",
   "id": "a6910c15",
   "metadata": {},
   "source": [
    "Some basic codes for numpy are given:"
   ]
  },
  {
   "cell_type": "code",
   "execution_count": 51,
   "id": "17b98603",
   "metadata": {},
   "outputs": [
    {
     "name": "stdout",
     "output_type": "stream",
     "text": [
      "[1 2 3 4 5]\n"
     ]
    }
   ],
   "source": [
    "import numpy as np\n",
    "\n",
    "x=np.array([1,2,3,4,5])\n",
    "print(x)"
   ]
  },
  {
   "cell_type": "markdown",
   "id": "2670a325",
   "metadata": {},
   "source": [
    "# Zeros"
   ]
  },
  {
   "cell_type": "code",
   "execution_count": 52,
   "id": "b16f8782",
   "metadata": {},
   "outputs": [
    {
     "name": "stdout",
     "output_type": "stream",
     "text": [
      "[[0. 0. 0.]\n",
      " [0. 0. 0.]]\n"
     ]
    }
   ],
   "source": [
    "x=np.zeros((2,3))\n",
    "print(x)"
   ]
  },
  {
   "cell_type": "code",
   "execution_count": 53,
   "id": "516130fa",
   "metadata": {},
   "outputs": [
    {
     "name": "stdout",
     "output_type": "stream",
     "text": [
      "(2, 3)\n"
     ]
    }
   ],
   "source": [
    "print(x.shape)"
   ]
  },
  {
   "cell_type": "code",
   "execution_count": 54,
   "id": "de22bc88",
   "metadata": {},
   "outputs": [
    {
     "name": "stdout",
     "output_type": "stream",
     "text": [
      "[0. 0. 0. 0. 0.]\n"
     ]
    }
   ],
   "source": [
    "x=np.zeros(5)\n",
    "print(x)"
   ]
  },
  {
   "cell_type": "code",
   "execution_count": 55,
   "id": "a16af630",
   "metadata": {},
   "outputs": [
    {
     "name": "stdout",
     "output_type": "stream",
     "text": [
      "[[0. 0. 0. 0.]\n",
      " [0. 0. 0. 0.]\n",
      " [0. 0. 0. 0.]]\n"
     ]
    }
   ],
   "source": [
    "x=np.zeros((3,4))\n",
    "print(x)"
   ]
  },
  {
   "cell_type": "markdown",
   "id": "9d7bc087",
   "metadata": {},
   "source": [
    "# Ones "
   ]
  },
  {
   "cell_type": "code",
   "execution_count": 56,
   "id": "b558a10b",
   "metadata": {},
   "outputs": [
    {
     "name": "stdout",
     "output_type": "stream",
     "text": [
      "[1. 1. 1. 1. 1.]\n"
     ]
    }
   ],
   "source": [
    "ones_arr=np.ones(5)\n",
    "print(ones_arr)"
   ]
  },
  {
   "cell_type": "code",
   "execution_count": 57,
   "id": "52ee5c04",
   "metadata": {},
   "outputs": [
    {
     "name": "stdout",
     "output_type": "stream",
     "text": [
      "[[1. 1. 1.]\n",
      " [1. 1. 1.]]\n"
     ]
    }
   ],
   "source": [
    "twoD_ones_arr=np.ones((2,3))\n",
    "print(twoD_ones_arr)"
   ]
  },
  {
   "cell_type": "markdown",
   "id": "a7998cbf",
   "metadata": {},
   "source": [
    "# Empty"
   ]
  },
  {
   "cell_type": "code",
   "execution_count": 58,
   "id": "509f3806",
   "metadata": {},
   "outputs": [
    {
     "name": "stdout",
     "output_type": "stream",
     "text": [
      "[6.23042070e-307 4.67296746e-307 1.69121096e-306 1.69761995e-312]\n"
     ]
    }
   ],
   "source": [
    "arr_em=np.empty(4)#empty function give us previous result\n",
    "print(arr_em)"
   ]
  },
  {
   "cell_type": "markdown",
   "id": "655c325e",
   "metadata": {},
   "source": [
    "# Range"
   ]
  },
  {
   "cell_type": "code",
   "execution_count": 59,
   "id": "94cdd17f",
   "metadata": {},
   "outputs": [
    {
     "name": "stdout",
     "output_type": "stream",
     "text": [
      "[0 1 2 3]\n"
     ]
    }
   ],
   "source": [
    "arr_ran=np.arange(4)#Range Function\n",
    "print(arr_ran)"
   ]
  },
  {
   "cell_type": "code",
   "execution_count": 60,
   "id": "ba84b658",
   "metadata": {},
   "outputs": [
    {
     "name": "stdout",
     "output_type": "stream",
     "text": [
      "[1 3 5 7 9]\n"
     ]
    }
   ],
   "source": [
    "arr=np.arange(1,10,2)#Range Function with start, stop and step\n",
    "print(arr)"
   ]
  },
  {
   "cell_type": "markdown",
   "id": "2fdc2027",
   "metadata": {},
   "source": [
    "# Diginal"
   ]
  },
  {
   "cell_type": "code",
   "execution_count": 61,
   "id": "3418f7eb",
   "metadata": {},
   "outputs": [
    {
     "name": "stdout",
     "output_type": "stream",
     "text": [
      "[[1. 0. 0.]\n",
      " [0. 1. 0.]\n",
      " [0. 0. 1.]]\n"
     ]
    }
   ],
   "source": [
    "Diginal=np.eye(3)#Identity Matrix\n",
    "print(Diginal)"
   ]
  },
  {
   "cell_type": "markdown",
   "id": "75b3aa9b",
   "metadata": {},
   "source": [
    "# Linespace"
   ]
  },
  {
   "cell_type": "code",
   "execution_count": 63,
   "id": "12f96472",
   "metadata": {},
   "outputs": [
    {
     "name": "stdout",
     "output_type": "stream",
     "text": [
      "[ 1.    3.25  5.5   7.75 10.  ]\n"
     ]
    }
   ],
   "source": [
    "arr_lin=np.linspace(1,10,num=5)#linspace function with start, stop and number of elements\n",
    "print(arr_lin)"
   ]
  },
  {
   "cell_type": "code",
   "execution_count": null,
   "id": "5d1c7858",
   "metadata": {},
   "outputs": [],
   "source": []
  }
 ],
 "metadata": {
  "kernelspec": {
   "display_name": "Python 3",
   "language": "python",
   "name": "python3"
  },
  "language_info": {
   "codemirror_mode": {
    "name": "ipython",
    "version": 3
   },
   "file_extension": ".py",
   "mimetype": "text/x-python",
   "name": "python",
   "nbconvert_exporter": "python",
   "pygments_lexer": "ipython3",
   "version": "3.12.6"
  }
 },
 "nbformat": 4,
 "nbformat_minor": 5
}
