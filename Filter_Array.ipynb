{
 "cells": [
  {
   "cell_type": "markdown",
   "id": "b1ee309c",
   "metadata": {},
   "source": [
    "`Filter,Shuffle,Resize of an Array`"
   ]
  },
  {
   "cell_type": "markdown",
   "id": "c5504d3d",
   "metadata": {},
   "source": [
    "Filter"
   ]
  },
  {
   "cell_type": "code",
   "execution_count": 1,
   "id": "e6525c03",
   "metadata": {},
   "outputs": [
    {
     "name": "stdout",
     "output_type": "stream",
     "text": [
      "['a' 'c']\n"
     ]
    }
   ],
   "source": [
    "import numpy as np\n",
    "arr=np.array(['s','a','b','c'])\n",
    "f=[False,True,False,True]\n",
    "new=arr[f]\n",
    "print(new)"
   ]
  },
  {
   "cell_type": "markdown",
   "id": "264a7f14",
   "metadata": {},
   "source": [
    "Shuffle "
   ]
  },
  {
   "cell_type": "code",
   "execution_count": 2,
   "id": "5b944302",
   "metadata": {},
   "outputs": [
    {
     "name": "stdout",
     "output_type": "stream",
     "text": [
      "[1 7 5 4 2 6 3 8]\n"
     ]
    }
   ],
   "source": [
    "import numpy as np\n",
    "arr=np.array([1,2,3,4,5,6,7,8])\n",
    "np.random.shuffle(arr)\n",
    "print(arr)"
   ]
  },
  {
   "cell_type": "markdown",
   "id": "a5f5cd8f",
   "metadata": {},
   "source": [
    "Unique"
   ]
  },
  {
   "cell_type": "code",
   "execution_count": 3,
   "id": "1510a83a",
   "metadata": {},
   "outputs": [
    {
     "name": "stdout",
     "output_type": "stream",
     "text": [
      "(array([1, 2, 3, 4, 5, 6]), array([0, 1, 3, 5, 6, 7], dtype=int64), array([2, 3, 1, 2, 1, 1], dtype=int64))\n"
     ]
    }
   ],
   "source": [
    "arr2=np.array([1,2,1,3,2,4,5,6,4,2])\n",
    "# x=np.unique(arr2)\n",
    "x=np.unique(arr2,return_index=True,return_counts=True)\n",
    "print(x)"
   ]
  },
  {
   "cell_type": "markdown",
   "id": "6c65bcff",
   "metadata": {},
   "source": [
    "Resize"
   ]
  },
  {
   "cell_type": "code",
   "execution_count": 4,
   "id": "3482c6d4",
   "metadata": {},
   "outputs": [
    {
     "name": "stdout",
     "output_type": "stream",
     "text": [
      "[[1 7 5]\n",
      " [4 2 6]]\n",
      "\n",
      "[1 4 7 2 5 6]\n",
      "[1 4 7 2 5 6]\n"
     ]
    }
   ],
   "source": [
    "arr3=np.array([1,2,3,4,5,6])\n",
    "# x=np.resize(arr,(3,2))\n",
    "# print(x)\n",
    "\n",
    "x=np.resize(arr,(2,3))\n",
    "print(x)\n",
    "print()\n",
    "print(x.flatten(order=\"F\"))\n",
    "print(np.ravel(x,order='F'))"
   ]
  },
  {
   "cell_type": "code",
   "execution_count": 5,
   "id": "656fc626",
   "metadata": {},
   "outputs": [
    {
     "name": "stdout",
     "output_type": "stream",
     "text": [
      "[1 2 3 4 5 6]\n",
      "[1 2 3 4 5 6]\n"
     ]
    }
   ],
   "source": [
    "var=np.array([[1,2,3],[4,5,6]])\n",
    "print(var.flatten())\n",
    "print(np.ravel(var))"
   ]
  },
  {
   "cell_type": "code",
   "execution_count": null,
   "id": "647eab96",
   "metadata": {},
   "outputs": [],
   "source": []
  }
 ],
 "metadata": {
  "kernelspec": {
   "display_name": "Python 3",
   "language": "python",
   "name": "python3"
  },
  "language_info": {
   "codemirror_mode": {
    "name": "ipython",
    "version": 3
   },
   "file_extension": ".py",
   "mimetype": "text/x-python",
   "name": "python",
   "nbconvert_exporter": "python",
   "pygments_lexer": "ipython3",
   "version": "3.12.6"
  }
 },
 "nbformat": 4,
 "nbformat_minor": 5
}
