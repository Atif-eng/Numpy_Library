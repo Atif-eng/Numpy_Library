{
 "cells": [
  {
   "cell_type": "markdown",
   "id": "3bc97f5d",
   "metadata": {},
   "source": [
    "# Data Type"
   ]
  },
  {
   "cell_type": "code",
   "execution_count": 1,
   "id": "04166d0e",
   "metadata": {},
   "outputs": [],
   "source": [
    "import numpy as np"
   ]
  },
  {
   "cell_type": "code",
   "execution_count": 2,
   "id": "54cbb42b",
   "metadata": {},
   "outputs": [
    {
     "name": "stdout",
     "output_type": "stream",
     "text": [
      "data type is: int32\n"
     ]
    }
   ],
   "source": [
    "arr=np.array([1,2,3,4,5,6,7,8])\n",
    "print(F\"data type is: {arr.dtype}\")"
   ]
  },
  {
   "cell_type": "code",
   "execution_count": 3,
   "id": "947345ac",
   "metadata": {},
   "outputs": [
    {
     "name": "stdout",
     "output_type": "stream",
     "text": [
      "data type is: float64\n"
     ]
    }
   ],
   "source": [
    "arr=np.array([1.4,2.1,0.3,4.1,5.9])\n",
    "print(F\"data type is: {arr.dtype}\")"
   ]
  },
  {
   "cell_type": "code",
   "execution_count": 4,
   "id": "e64b414f",
   "metadata": {},
   "outputs": [
    {
     "name": "stdout",
     "output_type": "stream",
     "text": [
      "data type is: <U6\n"
     ]
    }
   ],
   "source": [
    "arr=np.array([\"Ali\",\"Ahmad\",\"Hassan\"])\n",
    "print(F\"data type is: {arr.dtype}\")"
   ]
  },
  {
   "cell_type": "markdown",
   "id": "47e1955b",
   "metadata": {},
   "source": [
    "Data type with array"
   ]
  },
  {
   "cell_type": "code",
   "execution_count": 5,
   "id": "91271edd",
   "metadata": {},
   "outputs": [
    {
     "name": "stdout",
     "output_type": "stream",
     "text": [
      "[1. 2. 3. 4. 5.] float64\n",
      "[1 2 3 4 5] int64\n"
     ]
    }
   ],
   "source": [
    "arr=np.array([1,2,3,4,5],dtype=np.float64)\n",
    "print(arr,arr.dtype)\n",
    "\n",
    "arr=np.array([1,2,3,4,5],dtype=np.int64)\n",
    "print(arr,arr.dtype)"
   ]
  },
  {
   "cell_type": "code",
   "execution_count": 6,
   "id": "54b33ef6",
   "metadata": {},
   "outputs": [
    {
     "name": "stdout",
     "output_type": "stream",
     "text": [
      "[1 2 3 4 5] int32\n",
      "[1. 2. 3. 4. 5.] float32\n",
      "[b'1' b'2' b'3' b'4' b'5'] |S1\n",
      "[1 2 3 4 5] int8\n"
     ]
    }
   ],
   "source": [
    "arr=np.array([1,2,3,4,5],dtype=\"i\")\n",
    "print(arr,arr.dtype)\n",
    "\n",
    "arr1=np.array([1,2,3,4,5],dtype=\"f\")\n",
    "print(arr1,arr1.dtype)\n",
    "\n",
    "arr2=np.array([1,2,3,4,5],dtype=\"S\")#string\n",
    "print(arr2,arr2.dtype)\n",
    "\n",
    "arr3=np.array([1,2,3,4,5],dtype=\"b\")#boolian\n",
    "print(arr3,arr3.dtype)\n",
    "\n"
   ]
  },
  {
   "cell_type": "code",
   "execution_count": 8,
   "id": "7deebafb",
   "metadata": {},
   "outputs": [
    {
     "name": "stdout",
     "output_type": "stream",
     "text": [
      "We can also make a function to change data_types as:\n",
      "\n",
      "[1. 2. 3. 4. 5.]\n",
      "float32\n",
      "[1 2 3 4 5]\n",
      "int32\n"
     ]
    }
   ],
   "source": [
    "print(\"We can also make a function to change data_types as:\\n\")\n",
    "new=np.float32(arr3)\n",
    "print(new)\n",
    "print(new.dtype)\n",
    "\n",
    "x=np.int_(new)\n",
    "print(x)\n",
    "print(x.dtype)"
   ]
  },
  {
   "cell_type": "code",
   "execution_count": 9,
   "id": "9d62417b",
   "metadata": {},
   "outputs": [
    {
     "name": "stdout",
     "output_type": "stream",
     "text": [
      "[1. 2. 3. 4. 5.]\n"
     ]
    }
   ],
   "source": [
    "y=x.astype(float)\n",
    "print(y)"
   ]
  },
  {
   "cell_type": "code",
   "execution_count": null,
   "id": "3a270736",
   "metadata": {},
   "outputs": [],
   "source": []
  }
 ],
 "metadata": {
  "kernelspec": {
   "display_name": "Python 3",
   "language": "python",
   "name": "python3"
  },
  "language_info": {
   "codemirror_mode": {
    "name": "ipython",
    "version": 3
   },
   "file_extension": ".py",
   "mimetype": "text/x-python",
   "name": "python",
   "nbconvert_exporter": "python",
   "pygments_lexer": "ipython3",
   "version": "3.12.6"
  }
 },
 "nbformat": 4,
 "nbformat_minor": 5
}
