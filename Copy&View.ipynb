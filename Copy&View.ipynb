{
 "cells": [
  {
   "cell_type": "markdown",
   "id": "7c7818ef",
   "metadata": {},
   "source": [
    "# Copy and View"
   ]
  },
  {
   "cell_type": "markdown",
   "id": "06c5e8aa",
   "metadata": {},
   "source": [
    "` why we use copy and view in numpy`\n",
    "- In NumPy, \"copy\" and \"view\" are two ways to handle arrays, and they serve different purposes:\n",
    "- 1. **Copy**: When you create a copy of a NumPy array, you create a new array that is independent of the original. Changes made to the copy do not affect the original array, and vice versa. This is useful when you want to modify an array without altering the original data.\n",
    "- 2. **View**: A view is a new array object that looks at the\n",
    "- same data as the original array. Changes made to the view will affect the original array, and changes made to the original array will affect the view. This is memory-efficient because it does not create a new copy of the data, but it can lead to unintended side effects if you're not careful.\n",
    "- Here's a simple example to illustrate the difference:"
   ]
  },
  {
   "cell_type": "code",
   "execution_count": 1,
   "id": "a39cc9cb",
   "metadata": {},
   "outputs": [
    {
     "name": "stdout",
     "output_type": "stream",
     "text": [
      "arr:[ 1  2 10  4]\n",
      "copy:[1 2 3 4]\n"
     ]
    }
   ],
   "source": [
    "import numpy as np\n",
    "arr=np.array([1,2,3,4])\n",
    "copy=arr.copy()\n",
    "arr[2]=10\n",
    "#copy function is copy of the array give us new array\n",
    "# if we change copy array than it does not appear in the orignal array\n",
    "print(f\"arr:{arr}\")\n",
    "print(f\"copy:{copy}\")\n"
   ]
  },
  {
   "cell_type": "code",
   "execution_count": 2,
   "id": "583be387",
   "metadata": {},
   "outputs": [
    {
     "name": "stdout",
     "output_type": "stream",
     "text": [
      "View:[ 1  2 10  4]\n"
     ]
    }
   ],
   "source": [
    "#view function views the the array does not give us new array\n",
    "# if we change view than it appear in the orignal array\n",
    "view=arr.view()\n",
    "print(f\"View:{view}\")"
   ]
  },
  {
   "cell_type": "code",
   "execution_count": null,
   "id": "69d5b645",
   "metadata": {},
   "outputs": [],
   "source": []
  }
 ],
 "metadata": {
  "kernelspec": {
   "display_name": "Python 3",
   "language": "python",
   "name": "python3"
  },
  "language_info": {
   "codemirror_mode": {
    "name": "ipython",
    "version": 3
   },
   "file_extension": ".py",
   "mimetype": "text/x-python",
   "name": "python",
   "nbconvert_exporter": "python",
   "pygments_lexer": "ipython3",
   "version": "3.12.6"
  }
 },
 "nbformat": 4,
 "nbformat_minor": 5
}
